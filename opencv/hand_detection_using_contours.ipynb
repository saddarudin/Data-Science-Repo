{
 "cells": [
  {
   "cell_type": "code",
   "execution_count": 1,
   "metadata": {},
   "outputs": [],
   "source": [
    "import cv2 as cv"
   ]
  },
  {
   "cell_type": "code",
   "execution_count": 34,
   "metadata": {},
   "outputs": [],
   "source": [
    "img = cv.imread('resources/hand2.jpg')\n",
    "gray = cv.cvtColor(img,cv.COLOR_BGR2GRAY)\n",
    "blur = cv.medianBlur(gray,5)\n",
    "ret,thresh = cv.threshold(blur,230,255,cv.THRESH_BINARY_INV)\n",
    "cv.imshow('Binary image',thresh)\n",
    "cv.waitKey(0)\n",
    "cv.destroyAllWindows()"
   ]
  },
  {
   "cell_type": "code",
   "execution_count": 35,
   "metadata": {},
   "outputs": [
    {
     "name": "stdout",
     "output_type": "stream",
     "text": [
      "Number of contours: 1\n"
     ]
    }
   ],
   "source": [
    "cntrs,hierarchy = cv.findContours(thresh,cv.RETR_TREE,cv.CHAIN_APPROX_SIMPLE)\n",
    "print('Number of contours: '+str(len(cntrs)))"
   ]
  },
  {
   "cell_type": "code",
   "execution_count": 36,
   "metadata": {},
   "outputs": [],
   "source": [
    "img1 = img.copy()\n",
    "cv.drawContours(img1,cntrs,-1,(0,255,0),2)\n",
    "cv.imshow('Contours',img1)\n",
    "cv.waitKey(0)\n",
    "cv.destroyAllWindows()"
   ]
  },
  {
   "cell_type": "markdown",
   "metadata": {},
   "source": [
    "### ConvexHull\n",
    "#### All contours must be inside convex hull"
   ]
  },
  {
   "cell_type": "code",
   "execution_count": 37,
   "metadata": {},
   "outputs": [],
   "source": [
    "img2 = img.copy()\n",
    "for c in cntrs:\n",
    "    epsilon = 0.0001*cv.arcLength(c,True)\n",
    "    data = cv.approxPolyDP(c,epsilon,True)\n",
    "    hull = cv.convexHull(data)\n",
    "    cv.drawContours(img2,[c],-1,(0,255,0),2)\n",
    "    cv.drawContours(img2,[hull],-1,(0,0,255),2)\n",
    "\n",
    "cv.imshow('Convex Hull',img2)\n",
    "cv.waitKey(0)\n",
    "cv.destroyAllWindows()"
   ]
  },
  {
   "cell_type": "markdown",
   "metadata": {},
   "source": [
    "#### Convexity Defect"
   ]
  },
  {
   "cell_type": "code",
   "execution_count": 38,
   "metadata": {},
   "outputs": [
    {
     "name": "stdout",
     "output_type": "stream",
     "text": [
      "Number of defects: 23\n"
     ]
    }
   ],
   "source": [
    "hull2 = cv.convexHull(cntrs[0],returnPoints=False)\n",
    "defects = cv.convexityDefects(cntrs[0],hull2)\n",
    "print('Number of defects: '+str(defects.shape[0]))"
   ]
  },
  {
   "cell_type": "code",
   "execution_count": 39,
   "metadata": {},
   "outputs": [
    {
     "data": {
      "text/plain": [
       "(23, 1, 4)"
      ]
     },
     "execution_count": 39,
     "metadata": {},
     "output_type": "execute_result"
    }
   ],
   "source": [
    "\n",
    "defects.shape"
   ]
  },
  {
   "cell_type": "code",
   "execution_count": 40,
   "metadata": {},
   "outputs": [],
   "source": [
    "for i in range(defects.shape[0]):\n",
    "    s,e,f,d = defects[i,0]\n",
    "    # start, end, farthest point, distance to farthest point\n",
    "    start = tuple(cntrs[0][s][0])\n",
    "    end = tuple(cntrs[0][e][0])\n",
    "    far = tuple(cntrs[0][f][0])\n",
    "    cv.circle(img2,far,5,(0,0,255),-1)\n",
    "    \n",
    "cv.imshow('Defects',img2)\n",
    "cv.waitKey(0)\n",
    "cv.destroyAllWindows()"
   ]
  },
  {
   "cell_type": "markdown",
   "metadata": {},
   "source": [
    "### Extreme Points"
   ]
  },
  {
   "cell_type": "code",
   "execution_count": 41,
   "metadata": {},
   "outputs": [],
   "source": [
    "c_max = max(cntrs,key=cv.contourArea)\n",
    "extLeft = tuple(c_max[c_max[:,:,0].argmin()][0])\n",
    "extRight = tuple(c_max[c_max[:,:,0].argmax()][0])\n",
    "extTop = tuple(c_max[c_max[:,:,1].argmin()][0])\n",
    "extBot = tuple(c_max[c_max[:,:,1].argmax()][0])\n",
    "\n",
    "img3= img.copy()\n",
    "cv.circle(img3,extLeft,8,(0,0,255),-1)\n",
    "cv.circle(img3,extRight,8,(0,255,0),-1)\n",
    "cv.circle(img3,extTop,8,(255,0,0),-1)\n",
    "cv.circle(img3,extBot,8,(255,255,0),-1)\n",
    "\n",
    "cv.imshow('Extrema',img3)\n",
    "cv.waitKey(0)\n",
    "cv.destroyAllWindows()"
   ]
  },
  {
   "cell_type": "code",
   "execution_count": null,
   "metadata": {},
   "outputs": [],
   "source": []
  }
 ],
 "metadata": {
  "kernelspec": {
   "display_name": "base",
   "language": "python",
   "name": "python3"
  },
  "language_info": {
   "codemirror_mode": {
    "name": "ipython",
    "version": 3
   },
   "file_extension": ".py",
   "mimetype": "text/x-python",
   "name": "python",
   "nbconvert_exporter": "python",
   "pygments_lexer": "ipython3",
   "version": "3.12.4"
  }
 },
 "nbformat": 4,
 "nbformat_minor": 2
}
