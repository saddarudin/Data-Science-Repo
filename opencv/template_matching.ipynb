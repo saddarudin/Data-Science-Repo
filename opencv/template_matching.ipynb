{
 "cells": [
  {
   "cell_type": "code",
   "execution_count": 30,
   "metadata": {},
   "outputs": [],
   "source": [
    "import cv2 as cv\n",
    "import numpy as np"
   ]
  },
  {
   "cell_type": "code",
   "execution_count": 31,
   "metadata": {},
   "outputs": [],
   "source": [
    "testing = cv.imread('resources/faces.jpg')\n",
    "gray_test = cv.cvtColor(testing,cv.COLOR_BGR2GRAY)\n",
    "cv.imshow('Testing',gray_test)\n",
    "cv.waitKey(0)\n",
    "cv.destroyAllWindows()"
   ]
  },
  {
   "cell_type": "code",
   "execution_count": 32,
   "metadata": {},
   "outputs": [],
   "source": [
    "training = cv.imread('resources/template.jpg',0)\n",
    "cv.imshow('Training Image',training)\n",
    "cv.waitKey(0)\n",
    "cv.destroyAllWindows()"
   ]
  },
  {
   "cell_type": "code",
   "execution_count": 33,
   "metadata": {},
   "outputs": [
    {
     "data": {
      "text/plain": [
       "(124, 89)"
      ]
     },
     "execution_count": 33,
     "metadata": {},
     "output_type": "execute_result"
    }
   ],
   "source": [
    "h,w = training.shape\n",
    "h,w"
   ]
  },
  {
   "cell_type": "code",
   "execution_count": 34,
   "metadata": {},
   "outputs": [
    {
     "name": "stdout",
     "output_type": "stream",
     "text": [
      "[[ 0.12216007  0.1287481   0.1342386  ...  0.6417636   0.62608165\n",
      "   0.6030575 ]\n",
      " [ 0.13155445  0.13839138  0.14412934 ...  0.6476683   0.63220805\n",
      "   0.60899144]\n",
      " [ 0.14079052  0.14802441  0.15390894 ...  0.65227014  0.63709515\n",
      "   0.61369604]\n",
      " ...\n",
      " [-0.31865582 -0.31701693 -0.31248206 ... -0.06933416 -0.07559028\n",
      "  -0.07990014]\n",
      " [-0.3310496  -0.32899323 -0.32400173 ... -0.06006668 -0.06624642\n",
      "  -0.07052287]\n",
      " [-0.34254026 -0.34032398 -0.33511215 ... -0.04931147 -0.05553339\n",
      "  -0.05995587]]\n"
     ]
    }
   ],
   "source": [
    "res = cv.matchTemplate(gray_test,training,cv.TM_CCOEFF_NORMED)\n",
    "print(res)"
   ]
  },
  {
   "cell_type": "code",
   "execution_count": 35,
   "metadata": {},
   "outputs": [],
   "source": [
    "threshold = 0.7\n",
    "loc = np.where(res>=threshold)\n",
    "for i in zip(*loc[::-1]):\n",
    "    cv.rectangle(testing,i,(i[0]+w,i[1]+h),(0,255,0),2)\n",
    "cv.imshow('Detected',testing)\n",
    "cv.waitKey(0)\n",
    "cv.destroyAllWindows()"
   ]
  },
  {
   "cell_type": "code",
   "execution_count": null,
   "metadata": {},
   "outputs": [],
   "source": []
  }
 ],
 "metadata": {
  "kernelspec": {
   "display_name": "base",
   "language": "python",
   "name": "python3"
  },
  "language_info": {
   "codemirror_mode": {
    "name": "ipython",
    "version": 3
   },
   "file_extension": ".py",
   "mimetype": "text/x-python",
   "name": "python",
   "nbconvert_exporter": "python",
   "pygments_lexer": "ipython3",
   "version": "3.12.4"
  }
 },
 "nbformat": 4,
 "nbformat_minor": 2
}
