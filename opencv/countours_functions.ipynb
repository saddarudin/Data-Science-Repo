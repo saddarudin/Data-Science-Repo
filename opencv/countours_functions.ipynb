{
 "cells": [
  {
   "cell_type": "markdown",
   "metadata": {},
   "source": [
    "#### 1. Moment 2.Approximation 3. ConvexHull methods are covered in this notebook"
   ]
  },
  {
   "cell_type": "code",
   "execution_count": 1,
   "metadata": {},
   "outputs": [],
   "source": [
    "import cv2 as cv"
   ]
  },
  {
   "cell_type": "code",
   "execution_count": 47,
   "metadata": {},
   "outputs": [],
   "source": [
    "img = cv.imread('resources/shapes.jpg')\n",
    "gray = cv.cvtColor(img,cv.COLOR_BGR2GRAY)\n",
    "ret,thresh = cv.threshold(gray,127,255,cv.THRESH_BINARY_INV)\n",
    "cv.imshow('Gray Scaled Image',gray)\n",
    "cv.imshow('Threshold Image',thresh)\n",
    "cv.waitKey(0)\n",
    "cv.destroyAllWindows()"
   ]
  },
  {
   "cell_type": "code",
   "execution_count": 48,
   "metadata": {},
   "outputs": [
    {
     "name": "stdout",
     "output_type": "stream",
     "text": [
      "Number of Contours: 15\n"
     ]
    }
   ],
   "source": [
    "cntrs,hierarchy = cv.findContours(thresh,cv.RETR_TREE,cv.CHAIN_APPROX_SIMPLE)\n",
    "print('Number of Contours:',len(cntrs))"
   ]
  },
  {
   "cell_type": "code",
   "execution_count": 44,
   "metadata": {},
   "outputs": [],
   "source": [
    "img = cv.drawContours(img,cntrs,-1,(255,0,0),4)\n",
    "cv.imshow('Contours',img)\n",
    "cv.waitKey(0)\n",
    "cv.destroyAllWindows()"
   ]
  },
  {
   "cell_type": "markdown",
   "metadata": {},
   "source": [
    "## Moment Function\n",
    "#### With the help of this method you can calculate the weighted mass and centre of your image etc.\n",
    "#### It brings information about each contour"
   ]
  },
  {
   "cell_type": "code",
   "execution_count": 52,
   "metadata": {},
   "outputs": [
    {
     "name": "stdout",
     "output_type": "stream",
     "text": [
      "Area of Contours: [1372.0, 2419.5, 1087.0, 1945.0, 2742.0, 2256.0, 2903.0, 1193.5, 2015.0, 2401.0, 1785.0, 1776.5, 2151.0, 1718.5, 3536.5]\n"
     ]
    }
   ],
   "source": [
    "area= []\n",
    "for c in cntrs:\n",
    "    M = cv.moments(c)\n",
    "    cX = int(M['m10']/M['m00'])\n",
    "    cY = int(M['m10']/M['m00'])\n",
    "    cv.drawContours(img,[c],-1,(0,0,255),3)\n",
    "    # area of contour\n",
    "    area.append(cv.contourArea(c))\n",
    "    # contour approximation\n",
    "    epsilon = 0.02*cv.arcLength(c,True)\n",
    "    data = cv.approxPolyDP(c,epsilon,True)\n",
    "    \n",
    "    # convex hull\n",
    "    hull = cv.convexHull(c)\n",
    "    x,y,w,h = cv.boundingRect(c)\n",
    "    img = cv.rectangle(img,(x,y),(x+w,y+h),(0,255,0),2)\n",
    "    # cv.circle(img,(cX,cY),7,(255,255,255),-1)\n",
    "    cv.putText(img,'Center',(cX-10,cY-10),cv.FONT_HERSHEY_PLAIN,1,(0,255,0),2)\n",
    "print('Area of Contours:',area)"
   ]
  },
  {
   "cell_type": "code",
   "execution_count": 53,
   "metadata": {},
   "outputs": [],
   "source": [
    "cv.imshow('Contours',img)\n",
    "cv.waitKey(0)\n",
    "cv.destroyAllWindows()"
   ]
  },
  {
   "cell_type": "code",
   "execution_count": null,
   "metadata": {},
   "outputs": [],
   "source": []
  }
 ],
 "metadata": {
  "kernelspec": {
   "display_name": "base",
   "language": "python",
   "name": "python3"
  },
  "language_info": {
   "codemirror_mode": {
    "name": "ipython",
    "version": 3
   },
   "file_extension": ".py",
   "mimetype": "text/x-python",
   "name": "python",
   "nbconvert_exporter": "python",
   "pygments_lexer": "ipython3",
   "version": "3.12.4"
  }
 },
 "nbformat": 4,
 "nbformat_minor": 2
}
