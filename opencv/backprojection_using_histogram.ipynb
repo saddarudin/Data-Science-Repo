{
 "cells": [
  {
   "cell_type": "code",
   "execution_count": 37,
   "metadata": {},
   "outputs": [],
   "source": [
    "import cv2 as cv\n",
    "import numpy as np"
   ]
  },
  {
   "cell_type": "code",
   "execution_count": 38,
   "metadata": {},
   "outputs": [],
   "source": [
    "img = cv.imread('resources/blue.jpg')\n",
    "roi = cv.imread('resources/b.jpg')\n",
    "cv.imshow(\"Blue Background\",img)\n",
    "cv.imshow(\"roi\",roi)\n",
    "cv.waitKey(0)\n",
    "cv.destroyAllWindows()"
   ]
  },
  {
   "cell_type": "code",
   "execution_count": 39,
   "metadata": {},
   "outputs": [],
   "source": [
    "hsv = cv.cvtColor(img,cv.COLOR_BGR2HSV)\n",
    "hsv_roi = cv.cvtColor(roi,cv.COLOR_BGR2HSV)"
   ]
  },
  {
   "cell_type": "code",
   "execution_count": 40,
   "metadata": {},
   "outputs": [],
   "source": [
    "roi_hist = cv.calcHist([hsv_roi],[0,1],None,[180,256],[0,180,0,256])\n",
    "mask = cv.calcBackProject([hsv],[0,1],roi_hist,[0,180,0,256],1)"
   ]
  },
  {
   "cell_type": "markdown",
   "metadata": {},
   "source": [
    "### Removing noise"
   ]
  },
  {
   "cell_type": "code",
   "execution_count": 41,
   "metadata": {},
   "outputs": [],
   "source": [
    "kernel = cv.getStructuringElement(cv.MORPH_ELLIPSE,(5,5))\n",
    "mask = cv.filter2D(mask,-1,kernel)\n",
    "_,mask = cv.threshold(mask,150,255,cv.THRESH_BINARY)"
   ]
  },
  {
   "cell_type": "code",
   "execution_count": 42,
   "metadata": {},
   "outputs": [],
   "source": [
    "mask = cv.merge((mask,mask,mask))\n",
    "result = cv.bitwise_or(img,mask)"
   ]
  },
  {
   "cell_type": "code",
   "execution_count": 43,
   "metadata": {},
   "outputs": [],
   "source": [
    "cv.imshow(\"Result\",result)\n",
    "cv.waitKey(0)\n",
    "cv.destroyAllWindows()"
   ]
  },
  {
   "cell_type": "code",
   "execution_count": null,
   "metadata": {},
   "outputs": [],
   "source": []
  }
 ],
 "metadata": {
  "kernelspec": {
   "display_name": "base",
   "language": "python",
   "name": "python3"
  },
  "language_info": {
   "codemirror_mode": {
    "name": "ipython",
    "version": 3
   },
   "file_extension": ".py",
   "mimetype": "text/x-python",
   "name": "python",
   "nbconvert_exporter": "python",
   "pygments_lexer": "ipython3",
   "version": "3.12.4"
  }
 },
 "nbformat": 4,
 "nbformat_minor": 2
}
