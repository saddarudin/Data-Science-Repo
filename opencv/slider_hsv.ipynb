{
 "cells": [
  {
   "cell_type": "markdown",
   "metadata": {},
   "source": [
    "### Detecting specific colors and objects in an image through sliders\n",
    "### It is specially used for filtering colors in an image"
   ]
  },
  {
   "cell_type": "markdown",
   "metadata": {},
   "source": [
    "### here we will convert image into hsv(hue, saturation, value)\n",
    "### hue means color"
   ]
  },
  {
   "cell_type": "code",
   "execution_count": 1,
   "metadata": {},
   "outputs": [],
   "source": [
    "import numpy as np\n",
    "import cv2 as cv"
   ]
  },
  {
   "cell_type": "code",
   "execution_count": 2,
   "metadata": {},
   "outputs": [],
   "source": [
    "img = cv.imread('resources/warp.png')\n",
    "resized_img = cv.resize(img,(400,300))"
   ]
  },
  {
   "cell_type": "markdown",
   "metadata": {},
   "source": [
    "### slider method for passing as an argument to slider"
   ]
  },
  {
   "cell_type": "code",
   "execution_count": 3,
   "metadata": {},
   "outputs": [],
   "source": [
    "def slider():\n",
    "    pass"
   ]
  },
  {
   "cell_type": "markdown",
   "metadata": {},
   "source": [
    "### window for showing sliders on "
   ]
  },
  {
   "cell_type": "code",
   "execution_count": 4,
   "metadata": {},
   "outputs": [],
   "source": [
    "cv.namedWindow('bars')\n",
    "cv.resizeWindow('bars',400,300)"
   ]
  },
  {
   "cell_type": "markdown",
   "metadata": {},
   "source": [
    "### creating sliders for hsv changes"
   ]
  },
  {
   "cell_type": "code",
   "execution_count": 5,
   "metadata": {},
   "outputs": [
    {
     "ename": "TypeError",
     "evalue": "slider() takes 0 positional arguments but 1 was given",
     "output_type": "error",
     "traceback": [
      "\u001b[1;31m---------------------------------------------------------------------------\u001b[0m",
      "\u001b[1;31mTypeError\u001b[0m                                 Traceback (most recent call last)",
      "\u001b[1;31mTypeError\u001b[0m: slider() takes 0 positional arguments but 1 was given"
     ]
    },
    {
     "ename": "TypeError",
     "evalue": "slider() takes 0 positional arguments but 1 was given",
     "output_type": "error",
     "traceback": [
      "\u001b[1;31m---------------------------------------------------------------------------\u001b[0m",
      "\u001b[1;31mTypeError\u001b[0m                                 Traceback (most recent call last)",
      "\u001b[1;31mTypeError\u001b[0m: slider() takes 0 positional arguments but 1 was given"
     ]
    },
    {
     "ename": "TypeError",
     "evalue": "slider() takes 0 positional arguments but 1 was given",
     "output_type": "error",
     "traceback": [
      "\u001b[1;31m---------------------------------------------------------------------------\u001b[0m",
      "\u001b[1;31mTypeError\u001b[0m                                 Traceback (most recent call last)",
      "\u001b[1;31mTypeError\u001b[0m: slider() takes 0 positional arguments but 1 was given"
     ]
    }
   ],
   "source": [
    "cv.createTrackbar('hue min','bars',0,179,slider)\n",
    "cv.createTrackbar('hue max','bars',179,179,slider)\n",
    "cv.createTrackbar('sat min','bars',0,255,slider)\n",
    "cv.createTrackbar('sat max','bars',255,255,slider)\n",
    "cv.createTrackbar('val min','bars',0,255,slider)\n",
    "cv.createTrackbar('val max','bars',255,255,slider)\n"
   ]
  },
  {
   "cell_type": "code",
   "execution_count": null,
   "metadata": {},
   "outputs": [
    {
     "ename": "NameError",
     "evalue": "name 'hue_min' is not defined",
     "output_type": "error",
     "traceback": [
      "\u001b[1;31m---------------------------------------------------------------------------\u001b[0m",
      "\u001b[1;31mNameError\u001b[0m                                 Traceback (most recent call last)",
      "Cell \u001b[1;32mIn[6], line 11\u001b[0m\n\u001b[0;32m      2\u001b[0m hsv_img \u001b[38;5;241m=\u001b[39m cv\u001b[38;5;241m.\u001b[39mcvtColor(resized_img,cv\u001b[38;5;241m.\u001b[39mCOLOR_BGR2HSV)\n\u001b[0;32m      3\u001b[0m \u001b[38;5;66;03m# hue_min = cv.getTrackbarPos('hue min','bars')\u001b[39;00m\n\u001b[0;32m      4\u001b[0m \u001b[38;5;66;03m# hue_max = cv.getTrackbarPos('hue max','bars')\u001b[39;00m\n\u001b[0;32m      5\u001b[0m \u001b[38;5;66;03m# sat_min = cv.getTrackbarPos('sat min','bars')\u001b[39;00m\n\u001b[1;32m   (...)\u001b[0m\n\u001b[0;32m      8\u001b[0m \u001b[38;5;66;03m# val_max = cv.getTrackbarPos('val max','bars')\u001b[39;00m\n\u001b[0;32m      9\u001b[0m \u001b[38;5;66;03m# print(hue_min,hue_max,sat_min,sat_max,val_min,val_max)\u001b[39;00m\n\u001b[1;32m---> 11\u001b[0m lower \u001b[38;5;241m=\u001b[39m np\u001b[38;5;241m.\u001b[39marray([hue_min,sat_min,val_min])\n\u001b[0;32m     12\u001b[0m upper \u001b[38;5;241m=\u001b[39m np\u001b[38;5;241m.\u001b[39marray([hue_max,sat_max,val_max])\n\u001b[0;32m     13\u001b[0m mask_image \u001b[38;5;241m=\u001b[39m cv\u001b[38;5;241m.\u001b[39minRange(hsv_img,lower,upper)\n",
      "\u001b[1;31mNameError\u001b[0m: name 'hue_min' is not defined"
     ]
    },
    {
     "ename": "",
     "evalue": "",
     "output_type": "error",
     "traceback": [
      "\u001b[1;31mThe Kernel crashed while executing code in the current cell or a previous cell. \n",
      "\u001b[1;31mPlease review the code in the cell(s) to identify a possible cause of the failure. \n",
      "\u001b[1;31mClick <a href='https://aka.ms/vscodeJupyterKernelCrash'>here</a> for more info. \n",
      "\u001b[1;31mView Jupyter <a href='command:jupyter.viewOutput'>log</a> for further details."
     ]
    }
   ],
   "source": [
    "while True:\n",
    "    hsv_img = cv.cvtColor(resized_img,cv.COLOR_BGR2HSV)\n",
    "    hue_min = cv.getTrackbarPos('hue min','bars')\n",
    "    hue_max = cv.getTrackbarPos('hue max','bars')\n",
    "    sat_min = cv.getTrackbarPos('sat min','bars')\n",
    "    sat_max = cv.getTrackbarPos('sat max','bars')\n",
    "    val_min = cv.getTrackbarPos('val min','bars')\n",
    "    val_max = cv.getTrackbarPos('val max','bars')\n",
    "    # print(hue_min,hue_max,sat_min,sat_max,val_min,val_max)\n",
    "    \n",
    "    lower = np.array([hue_min,sat_min,val_min])\n",
    "    upper = np.array([hue_max,sat_max,val_max])\n",
    "    mask_image = cv.inRange(hsv_img,lower,upper)\n",
    "    out_img = cv.bitwise_and(resized_img,resized_img,mask=mask_image)\n",
    "    \n",
    "    # cv.imshow('originla',resized_img)\n",
    "    # cv.imshow('hsv',hsv_img)\n",
    "    cv.imshow('mask',mask_image)\n",
    "    cv.imshow('bitwise',out_img)\n",
    "    if cv.waitKey(1) & 0xFF == ord('q'):\n",
    "        break\n",
    "cv.destroyAllWindows()\n",
    "    "
   ]
  },
  {
   "cell_type": "code",
   "execution_count": null,
   "metadata": {},
   "outputs": [],
   "source": []
  }
 ],
 "metadata": {
  "kernelspec": {
   "display_name": "base",
   "language": "python",
   "name": "python3"
  },
  "language_info": {
   "codemirror_mode": {
    "name": "ipython",
    "version": 3
   },
   "file_extension": ".py",
   "mimetype": "text/x-python",
   "name": "python",
   "nbconvert_exporter": "python",
   "pygments_lexer": "ipython3",
   "version": "3.12.4"
  }
 },
 "nbformat": 4,
 "nbformat_minor": 2
}
