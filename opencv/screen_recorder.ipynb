{
 "cells": [
  {
   "cell_type": "code",
   "execution_count": 1,
   "metadata": {},
   "outputs": [],
   "source": [
    "import cv2 as cv\n",
    "import pyautogui as gui\n",
    "import numpy as np"
   ]
  },
  {
   "cell_type": "code",
   "execution_count": null,
   "metadata": {},
   "outputs": [
    {
     "data": {
      "text/plain": [
       "Size(width=1920, height=1080)"
      ]
     },
     "execution_count": 2,
     "metadata": {},
     "output_type": "execute_result"
    }
   ],
   "source": [
    "screen_resolution = gui.size()\n",
    "screen_resolution"
   ]
  },
  {
   "cell_type": "code",
   "execution_count": 6,
   "metadata": {},
   "outputs": [],
   "source": [
    "output = cv.VideoWriter('resources/screen_recording.mp4',cv.VideoWriter_fourcc(*'XVID'),20,screen_resolution)\n",
    "cv.namedWindow('Screen Recording',cv.WINDOW_NORMAL)\n",
    "cv.resizeWindow('Screen Recording', screen_resolution[0]//2, screen_resolution[1]//2)\n",
    "while True:\n",
    "    frame = gui.screenshot()\n",
    "    f = np.array(frame)\n",
    "    f = cv.cvtColor(f, cv.COLOR_BGR2RGB)\n",
    "    output.write(f)\n",
    "    cv.imshow('Screen Recording', f)\n",
    "    if cv.waitKey(1) == ord('q'):\n",
    "        break\n",
    "output.release()\n",
    "cv.destroyAllWindows()"
   ]
  },
  {
   "cell_type": "code",
   "execution_count": null,
   "metadata": {},
   "outputs": [],
   "source": []
  }
 ],
 "metadata": {
  "kernelspec": {
   "display_name": "base",
   "language": "python",
   "name": "python3"
  },
  "language_info": {
   "codemirror_mode": {
    "name": "ipython",
    "version": 3
   },
   "file_extension": ".py",
   "mimetype": "text/x-python",
   "name": "python",
   "nbconvert_exporter": "python",
   "pygments_lexer": "ipython3",
   "version": "3.12.4"
  }
 },
 "nbformat": 4,
 "nbformat_minor": 2
}
