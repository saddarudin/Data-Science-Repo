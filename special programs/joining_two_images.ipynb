{
 "cells": [
  {
   "cell_type": "markdown",
   "metadata": {},
   "source": [
    "## Joining multiple images"
   ]
  },
  {
   "cell_type": "code",
   "execution_count": 2,
   "metadata": {},
   "outputs": [],
   "source": [
    "import cv2 as cv\n",
    "import numpy as np"
   ]
  },
  {
   "cell_type": "code",
   "execution_count": 8,
   "metadata": {},
   "outputs": [],
   "source": [
    "img = cv.imread('resources/dog.jpg')\n",
    "resized_img = cv.resize(img,(800,600))\n",
    "cv.imshow('dog image',resized_img)\n",
    "cv.waitKey(0)\n",
    "cv.destroyAllWindows()"
   ]
  },
  {
   "cell_type": "markdown",
   "metadata": {},
   "source": [
    "### Joining two images horizontally"
   ]
  },
  {
   "cell_type": "code",
   "execution_count": 10,
   "metadata": {},
   "outputs": [],
   "source": [
    "horizontal_img = np.hstack((img,img))\n",
    "resized_h_img=cv.resize(horizontal_img,(600,400))\n",
    "cv.imshow('hstacked image',resized_h_img)\n",
    "cv.waitKey(0)\n",
    "cv.destroyAllWindows()"
   ]
  },
  {
   "cell_type": "markdown",
   "metadata": {},
   "source": [
    "### Joining two images vertically"
   ]
  },
  {
   "cell_type": "code",
   "execution_count": 16,
   "metadata": {},
   "outputs": [],
   "source": [
    "vertical_stack = np.vstack((img,img,img))\n",
    "resized_v_stack = cv.resize(vertical_stack,(600,600))\n",
    "cv.imshow('vertical stack',resized_v_stack)\n",
    "cv.waitKey(0)\n",
    "cv.destroyAllWindows()"
   ]
  },
  {
   "cell_type": "markdown",
   "metadata": {},
   "source": [
    "## There is an issue with these methods as we can only stack images with same shape and same channel i.e both images should be of rgb values or both should be of gray scaled or both should be binary"
   ]
  },
  {
   "cell_type": "markdown",
   "metadata": {},
   "source": [
    "### To handle this we can resize each image before stacking"
   ]
  },
  {
   "cell_type": "code",
   "execution_count": 26,
   "metadata": {},
   "outputs": [],
   "source": [
    "def stack_images(images,direction='vertical'):\n",
    "    resized_imgs = []\n",
    "    for img in images:\n",
    "        resized_imgs.append(cv.resize(img,(400,400)))\n",
    "    if direction=='horizontal':\n",
    "        horizontal_stack = np.hstack(tuple (resized_imgs))\n",
    "        return cv.resize(horizontal_stack,(600,600))\n",
    "    if direction=='vertical':\n",
    "        vertical_stack = np.vstack(tuple (resized_imgs))\n",
    "        return cv.resize(vertical_stack,(600,600))\n",
    "    else:\n",
    "        print(\"Please provide direction i.e either horizontal or vertical\")"
   ]
  },
  {
   "cell_type": "code",
   "execution_count": 28,
   "metadata": {},
   "outputs": [],
   "source": [
    "stacked_image = stack_images([img,img,img,img],direction='vertical')\n",
    "cv.imshow('stacked images',stacked_image)\n",
    "cv.waitKey(0)\n",
    "cv.destroyAllWindows()"
   ]
  },
  {
   "cell_type": "code",
   "execution_count": 25,
   "metadata": {},
   "outputs": [
    {
     "name": "stdout",
     "output_type": "stream",
     "text": [
      "(1, 2, 3, 4)\n"
     ]
    }
   ],
   "source": [
    "m = [1,2,3,4]\n",
    "print(tuple (m))"
   ]
  },
  {
   "cell_type": "code",
   "execution_count": null,
   "metadata": {},
   "outputs": [],
   "source": []
  }
 ],
 "metadata": {
  "kernelspec": {
   "display_name": "base",
   "language": "python",
   "name": "python3"
  },
  "language_info": {
   "codemirror_mode": {
    "name": "ipython",
    "version": 3
   },
   "file_extension": ".py",
   "mimetype": "text/x-python",
   "name": "python",
   "nbconvert_exporter": "python",
   "pygments_lexer": "ipython3",
   "version": "3.12.4"
  }
 },
 "nbformat": 4,
 "nbformat_minor": 2
}
