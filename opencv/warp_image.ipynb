{
 "cells": [
  {
   "cell_type": "markdown",
   "metadata": {},
   "source": [
    "### Sometimes the image is rotated in a way that we cannot read it properly so in this chapter we will be straightning that image"
   ]
  },
  {
   "cell_type": "markdown",
   "metadata": {},
   "source": [
    "#### In OpenCV, \"warp\" refers to geometric transformations applied to an image, allowing you to change the image’s shape, perspective, or scale. These transformations include operations like resizing, rotating, translating (shifting), and perspective changes. The two primary functions for warping in OpenCV are warpAffine() and warpPerspective()."
   ]
  },
  {
   "cell_type": "code",
   "execution_count": 17,
   "metadata": {},
   "outputs": [],
   "source": [
    "import cv2 as cv\n",
    "import numpy as np"
   ]
  },
  {
   "cell_type": "code",
   "execution_count": 18,
   "metadata": {},
   "outputs": [],
   "source": [
    "img = cv.imread('resources/warp1.png')\n",
    "cv.imshow('warp image',img)\n",
    "cv.waitKey(0)\n",
    "cv.destroyAllWindows()"
   ]
  },
  {
   "cell_type": "code",
   "execution_count": 19,
   "metadata": {},
   "outputs": [
    {
     "data": {
      "text/plain": [
       "(220, 334, 3)"
      ]
     },
     "execution_count": 19,
     "metadata": {},
     "output_type": "execute_result"
    }
   ],
   "source": [
    "img.shape"
   ]
  },
  {
   "cell_type": "markdown",
   "metadata": {},
   "source": [
    "The order of these points generally corresponds to:\n",
    "1. Top-left\n",
    "2. Top-right\n",
    "3. Bottom-right\n",
    "4. Bottom-left"
   ]
  },
  {
   "cell_type": "code",
   "execution_count": 20,
   "metadata": {},
   "outputs": [],
   "source": [
    "source_points = np.float32([[135,12],[323,65],[229,200],[9,120]])\n",
    "width,height = img.shape[0],img.shape[1]\n",
    "destination_points = np.float32([[0,0],[width,0],[width,height],[0,height]])"
   ]
  },
  {
   "cell_type": "code",
   "execution_count": 21,
   "metadata": {},
   "outputs": [],
   "source": [
    "matrix = cv.getPerspectiveTransform(source_points,destination_points)\n",
    "out_img = cv.warpPerspective(img,matrix,(width,height))\n",
    "cv.imshow('transformed image',out_img)\n",
    "cv.waitKey(0)\n",
    "cv.destroyAllWindows()"
   ]
  },
  {
   "cell_type": "code",
   "execution_count": null,
   "metadata": {},
   "outputs": [],
   "source": []
  }
 ],
 "metadata": {
  "kernelspec": {
   "display_name": "base",
   "language": "python",
   "name": "python3"
  },
  "language_info": {
   "codemirror_mode": {
    "name": "ipython",
    "version": 3
   },
   "file_extension": ".py",
   "mimetype": "text/x-python",
   "name": "python",
   "nbconvert_exporter": "python",
   "pygments_lexer": "ipython3",
   "version": "3.12.4"
  }
 },
 "nbformat": 4,
 "nbformat_minor": 2
}
