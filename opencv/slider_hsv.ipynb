{
 "cells": [
  {
   "cell_type": "markdown",
   "metadata": {},
   "source": [
    "### Detecting specific colors and objects in an image through sliders\n",
    "### It is specially used for filtering colors in an image"
   ]
  },
  {
   "cell_type": "markdown",
   "metadata": {},
   "source": [
    "### here we will convert image into hsv(hue, saturation, value)\n",
    "### hue means color"
   ]
  },
  {
   "cell_type": "code",
   "execution_count": 22,
   "metadata": {},
   "outputs": [],
   "source": [
    "import numpy as np\n",
    "import cv2 as cv"
   ]
  },
  {
   "cell_type": "code",
   "execution_count": 23,
   "metadata": {},
   "outputs": [],
   "source": [
    "img = cv.imread('resources/balls.jpg')\n",
    "resized_img = cv.resize(img,(400,300))"
   ]
  },
  {
   "cell_type": "markdown",
   "metadata": {},
   "source": [
    "### slider method for passing as an argument to slider"
   ]
  },
  {
   "cell_type": "code",
   "execution_count": 24,
   "metadata": {},
   "outputs": [],
   "source": [
    "def slider(x):\n",
    "    pass"
   ]
  },
  {
   "cell_type": "markdown",
   "metadata": {},
   "source": [
    "### window for showing sliders on "
   ]
  },
  {
   "cell_type": "code",
   "execution_count": 25,
   "metadata": {},
   "outputs": [],
   "source": [
    "cv.namedWindow('bars')\n",
    "cv.resizeWindow('bars',400,300)"
   ]
  },
  {
   "cell_type": "markdown",
   "metadata": {},
   "source": [
    "### creating sliders for hsv changes"
   ]
  },
  {
   "cell_type": "code",
   "execution_count": 26,
   "metadata": {},
   "outputs": [],
   "source": [
    "cv.createTrackbar('hue min','bars',0,179,slider)\n",
    "cv.createTrackbar('hue max','bars',179,179,slider)\n",
    "cv.createTrackbar('sat min','bars',0,255,slider)\n",
    "cv.createTrackbar('sat max','bars',255,255,slider)\n",
    "cv.createTrackbar('val min','bars',0,255,slider)\n",
    "cv.createTrackbar('val max','bars',255,255,slider)\n"
   ]
  },
  {
   "cell_type": "code",
   "execution_count": 27,
   "metadata": {},
   "outputs": [],
   "source": [
    "while True:\n",
    "    hsv_img = cv.cvtColor(resized_img,cv.COLOR_BGR2HSV)\n",
    "    hue_min = cv.getTrackbarPos('hue min','bars')\n",
    "    hue_max = cv.getTrackbarPos('hue max','bars')\n",
    "    sat_min = cv.getTrackbarPos('sat min','bars')\n",
    "    sat_max = cv.getTrackbarPos('sat max','bars')\n",
    "    val_min = cv.getTrackbarPos('val min','bars')\n",
    "    val_max = cv.getTrackbarPos('val max','bars')\n",
    "    # print(hue_min,hue_max,sat_min,sat_max,val_min,val_max)\n",
    "    \n",
    "    lower = np.array([hue_min,sat_min,val_min])\n",
    "    upper = np.array([hue_max,sat_max,val_max])\n",
    "    mask_image = cv.inRange(hsv_img,lower,upper)\n",
    "    out_img = cv.bitwise_and(resized_img,resized_img,mask=mask_image)\n",
    "    \n",
    "    # cv.imshow('originla',resized_img)\n",
    "    # cv.imshow('hsv',hsv_img)\n",
    "    cv.imshow('mask',mask_image)\n",
    "    cv.imshow('bitwise',out_img)\n",
    "    if cv.waitKey(1) & 0xFF == ord('q'):\n",
    "        break\n",
    "cv.destroyAllWindows()\n",
    "    "
   ]
  },
  {
   "cell_type": "code",
   "execution_count": null,
   "metadata": {},
   "outputs": [],
   "source": []
  }
 ],
 "metadata": {
  "kernelspec": {
   "display_name": "base",
   "language": "python",
   "name": "python3"
  },
  "language_info": {
   "codemirror_mode": {
    "name": "ipython",
    "version": 3
   },
   "file_extension": ".py",
   "mimetype": "text/x-python",
   "name": "python",
   "nbconvert_exporter": "python",
   "pygments_lexer": "ipython3",
   "version": "3.12.4"
  }
 },
 "nbformat": 4,
 "nbformat_minor": 2
}
