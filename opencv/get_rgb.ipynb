{
 "cells": [
  {
   "cell_type": "code",
   "execution_count": 1,
   "metadata": {},
   "outputs": [
    {
     "name": "stdout",
     "output_type": "stream",
     "text": [
      "14  36  60\n"
     ]
    }
   ],
   "source": [
    "import cv2 as cv\n",
    "\n",
    "def find_coords(event,x,y,flags,params):\n",
    "    if event == cv.EVENT_RBUTTONDOWN:\n",
    "        b = img[y,x,0]\n",
    "        g = img[y,x,1]\n",
    "        r = img[y,x,2]\n",
    "        print(r,'',g,'',b)\n",
    "        cv.putText(img,str(b)+','+str(g)+','+str(r),(x,y),cv.FONT_HERSHEY_DUPLEX,1,(0,0,0),2)\n",
    "        cv.imshow('image',img)\n",
    "        \n",
    "        \n",
    "if __name__ == \"__main__\":\n",
    "    img = cv.imread('resources/navy.jpeg')\n",
    "    cv.imshow('image',img)\n",
    "    cv.setMouseCallback('image',find_coords)\n",
    "    cv.waitKey(0)\n",
    "    cv.destroyAllWindows()"
   ]
  },
  {
   "cell_type": "code",
   "execution_count": null,
   "metadata": {},
   "outputs": [],
   "source": []
  }
 ],
 "metadata": {
  "kernelspec": {
   "display_name": "base",
   "language": "python",
   "name": "python3"
  },
  "language_info": {
   "codemirror_mode": {
    "name": "ipython",
    "version": 3
   },
   "file_extension": ".py",
   "mimetype": "text/x-python",
   "name": "python",
   "nbconvert_exporter": "python",
   "pygments_lexer": "ipython3",
   "version": "3.12.4"
  }
 },
 "nbformat": 4,
 "nbformat_minor": 2
}
