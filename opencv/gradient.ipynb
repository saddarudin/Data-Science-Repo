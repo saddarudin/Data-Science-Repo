{
 "cells": [
  {
   "cell_type": "code",
   "execution_count": 5,
   "metadata": {},
   "outputs": [],
   "source": [
    "import cv2 as cv\n",
    "import numpy as np"
   ]
  },
  {
   "cell_type": "code",
   "execution_count": 3,
   "metadata": {},
   "outputs": [],
   "source": [
    "img = cv.imread('resources/sdb.jpg',0)\n",
    "cv.imshow('SDB',img)\n",
    "cv.waitKey(0)\n",
    "cv.destroyAllWindows()"
   ]
  },
  {
   "cell_type": "markdown",
   "metadata": {},
   "source": [
    "### Laplacian Derivatives\n",
    "#### paramerers(image, datatype for negative values, kernel size)"
   ]
  },
  {
   "cell_type": "code",
   "execution_count": 14,
   "metadata": {},
   "outputs": [],
   "source": [
    "laplacian = cv.Laplacian(img,cv.CV_64F)\n",
    "laplacian = np.uint8(np.absolute(laplacian))\n",
    "cv.imshow('Laplacian',laplacian)\n",
    "cv.waitKey(0)\n",
    "cv.destroyAllWindows()"
   ]
  },
  {
   "cell_type": "markdown",
   "metadata": {},
   "source": [
    "### Sobel operation\n",
    "#### It is a joint gaussian smoothing plus differentiation operation, so it is more resistant to noise\n",
    "#### This is used for both x and y\n",
    "#### SobelX focuses on vertical lines\n",
    "#### SobelY focusses on horizontal lines\n",
    "#### parameters(image,datatype for negative value, x=1,y=0,ksize)"
   ]
  },
  {
   "cell_type": "code",
   "execution_count": 18,
   "metadata": {},
   "outputs": [],
   "source": [
    "sobelX = cv.Sobel(img,cv.CV_64F,1,0)\n",
    "sobelY = cv.Sobel(img,cv.CV_64F,0,1)\n",
    "sobelX = np.uint8(np.absolute(sobelX))\n",
    "sobelY = np.uint8(np.absolute(sobelY))\n",
    "cv.imshow('SobelX',sobelX)\n",
    "cv.imshow('SobelY',sobelY)\n",
    "cv.waitKey(0)\n",
    "cv.destroyAllWindows()"
   ]
  },
  {
   "cell_type": "markdown",
   "metadata": {},
   "source": [
    "#### Adding both sobel images"
   ]
  },
  {
   "cell_type": "code",
   "execution_count": 19,
   "metadata": {},
   "outputs": [],
   "source": [
    "combined_sobel = cv.bitwise_or(sobelX,sobelY)\n",
    "cv.imshow('Combined Sobel',combined_sobel)\n",
    "cv.waitKey(0)\n",
    "cv.destroyAllWindows()"
   ]
  },
  {
   "cell_type": "code",
   "execution_count": null,
   "metadata": {},
   "outputs": [],
   "source": []
  }
 ],
 "metadata": {
  "kernelspec": {
   "display_name": "base",
   "language": "python",
   "name": "python3"
  },
  "language_info": {
   "codemirror_mode": {
    "name": "ipython",
    "version": 3
   },
   "file_extension": ".py",
   "mimetype": "text/x-python",
   "name": "python",
   "nbconvert_exporter": "python",
   "pygments_lexer": "ipython3",
   "version": "3.12.4"
  }
 },
 "nbformat": 4,
 "nbformat_minor": 2
}
