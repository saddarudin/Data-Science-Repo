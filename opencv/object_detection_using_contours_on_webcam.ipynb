{
 "cells": [
  {
   "cell_type": "code",
   "execution_count": 9,
   "metadata": {},
   "outputs": [],
   "source": [
    "import cv2 as cv\n",
    "import numpy as np"
   ]
  },
  {
   "cell_type": "code",
   "execution_count": 10,
   "metadata": {},
   "outputs": [],
   "source": [
    "cap = cv.VideoCapture(0)"
   ]
  },
  {
   "cell_type": "code",
   "execution_count": 11,
   "metadata": {},
   "outputs": [],
   "source": [
    "def nothing(x):\n",
    "    pass"
   ]
  },
  {
   "cell_type": "code",
   "execution_count": 12,
   "metadata": {},
   "outputs": [],
   "source": [
    "cv.namedWindow('adjust values')\n",
    "cv.resizeWindow('adjust values',(300,300))\n",
    "cv.createTrackbar('thresh','adjust values',0,255,nothing)\n",
    "cv.createTrackbar('h_min','adjust values',0,255,nothing)\n",
    "cv.createTrackbar('h_max','adjust values',255,255,nothing)\n",
    "cv.createTrackbar('sat_min','adjust values',0,255,nothing)\n",
    "cv.createTrackbar('sat_max','adjust values',255,255,nothing)\n",
    "cv.createTrackbar('val_min','adjust values',0,255,nothing)\n",
    "cv.createTrackbar('val_max','adjust values',255,255,nothing)\n",
    "\n",
    "while True:\n",
    "    ret,frame = cap.read()\n",
    "    if ret:\n",
    "        frame = cv.resize(frame,(400,400))\n",
    "        hsv = cv.cvtColor(frame,cv.COLOR_BGR2HSV)\n",
    "        h_min = cv.getTrackbarPos('h_min','adjust values')\n",
    "        h_max = cv.getTrackbarPos('h_max','adjust values')\n",
    "        sat_min = cv.getTrackbarPos('sat_min','adjust values')\n",
    "        sat_max = cv.getTrackbarPos('sat_max','adjust values')\n",
    "        val_min = cv.getTrackbarPos('val_min','adjust values')\n",
    "        val_max = cv.getTrackbarPos('val_max','adjust values')\n",
    "        threshold_value = cv.getTrackbarPos('thresh','adjust values')\n",
    "        lower = np.array([h_min,sat_min,val_min])\n",
    "        upper = np.array([h_max,sat_max,val_max])\n",
    "        mask = cv.inRange(hsv,lower,upper)\n",
    "        filter = cv.bitwise_and(frame,frame,mask=mask)\n",
    "        # as we know normally the mask create white background and black object\n",
    "        # but for contours we require its reverse so we will now apply bitwise_not\n",
    "        # to reverse the mask result\n",
    "        mask = cv.bitwise_not(mask)\n",
    "        _,thresh = cv.threshold(mask,threshold_value,255,cv.THRESH_BINARY)\n",
    "        dilate = cv.dilate(thresh,(1,1),iterations=6)\n",
    "        cntrs,hierarchy = cv.findContours(dilate,cv.RETR_TREE,cv.CHAIN_APPROX_SIMPLE)\n",
    "        frame = cv.drawContours(frame,cntrs,-1,(0,255,0),3)    \n",
    "        cv.imshow('contours',frame)\n",
    "        cv.imshow('mask',mask)\n",
    "        cv.imshow('filter',filter)\n",
    "        cv.imshow('thresh',thresh)\n",
    "        if cv.waitKey(1) & 0xFF == ord('q'):\n",
    "            break\n",
    "        \n",
    "    else:\n",
    "        break\n",
    "cap.release()\n",
    "cv.destroyAllWindows()"
   ]
  },
  {
   "cell_type": "code",
   "execution_count": null,
   "metadata": {},
   "outputs": [],
   "source": []
  }
 ],
 "metadata": {
  "kernelspec": {
   "display_name": "base",
   "language": "python",
   "name": "python3"
  },
  "language_info": {
   "codemirror_mode": {
    "name": "ipython",
    "version": 3
   },
   "file_extension": ".py",
   "mimetype": "text/x-python",
   "name": "python",
   "nbconvert_exporter": "python",
   "pygments_lexer": "ipython3",
   "version": "3.12.4"
  }
 },
 "nbformat": 4,
 "nbformat_minor": 2
}
