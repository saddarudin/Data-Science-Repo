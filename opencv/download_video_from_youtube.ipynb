{
 "cells": [
  {
   "cell_type": "code",
   "execution_count": null,
   "metadata": {},
   "outputs": [
    {
     "name": "stdout",
     "output_type": "stream",
     "text": [
      "[youtube] Extracting URL: https://www.youtube.com/watch?v=qFrpTmAAEe4\n",
      "[youtube] qFrpTmAAEe4: Downloading webpage\n",
      "[youtube] qFrpTmAAEe4: Downloading ios player API JSON\n",
      "[youtube] qFrpTmAAEe4: Downloading mweb player API JSON\n",
      "[youtube] qFrpTmAAEe4: Downloading m3u8 information\n",
      "[info] qFrpTmAAEe4: Downloading 1 format(s): 18\n",
      "[download] Destination: F:\\yar_te_mera.mp4\n",
      "[download] 100% of   11.23MiB in 00:00:33 at 346.83KiB/s   \n"
     ]
    }
   ],
   "source": [
    "from yt_dlp import YoutubeDL\n",
    "\n",
    "url = 'https://www.youtube.com/watch?v=qFrpTmAAEe4'\n",
    "\n",
    "# yt-dlp options to get the best video format\n",
    "ydl_opts = {\n",
    "    'format': 'best[ext=mp4]',\n",
    "    'outtmpl': 'F:/yar_te_mera.mp4',\n",
    "}\n",
    "\n",
    "with YoutubeDL(ydl_opts) as ydl:\n",
    "    ydl.download([url])\n"
   ]
  },
  {
   "cell_type": "code",
   "execution_count": null,
   "metadata": {},
   "outputs": [],
   "source": []
  }
 ],
 "metadata": {
  "kernelspec": {
   "display_name": "base",
   "language": "python",
   "name": "python3"
  },
  "language_info": {
   "codemirror_mode": {
    "name": "ipython",
    "version": 3
   },
   "file_extension": ".py",
   "mimetype": "text/x-python",
   "name": "python",
   "nbconvert_exporter": "python",
   "pygments_lexer": "ipython3",
   "version": "3.12.4"
  }
 },
 "nbformat": 4,
 "nbformat_minor": 2
}
