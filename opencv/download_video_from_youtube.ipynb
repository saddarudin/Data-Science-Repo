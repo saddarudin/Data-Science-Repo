{
 "cells": [
  {
   "cell_type": "code",
   "execution_count": 2,
   "metadata": {},
   "outputs": [
    {
     "name": "stdout",
     "output_type": "stream",
     "text": [
      "[youtube] Extracting URL: https://www.youtube.com/watch?v=pYGks-_wJeg\n",
      "[youtube] pYGks-_wJeg: Downloading webpage\n",
      "[youtube] pYGks-_wJeg: Downloading ios player API JSON\n",
      "[youtube] pYGks-_wJeg: Downloading mweb player API JSON\n",
      "[youtube] pYGks-_wJeg: Downloading m3u8 information\n",
      "[info] pYGks-_wJeg: Downloading 1 format(s): 18\n",
      "[download] Destination: F:\\dil_je_veeran.mp4\n",
      "[download] 100% of   10.69MiB in 00:00:40 at 266.99KiB/s   \n"
     ]
    }
   ],
   "source": [
    "from yt_dlp import YoutubeDL\n",
    "\n",
    "url = 'https://www.youtube.com/watch?v=pYGks-_wJeg'\n",
    "\n",
    "# yt-dlp options to get the best video format\n",
    "ydl_opts = {\n",
    "    'format': 'best[ext=mp4]',\n",
    "    'outtmpl': 'F:/dil_je_veeran.mp4',\n",
    "}\n",
    "\n",
    "with YoutubeDL(ydl_opts) as ydl:\n",
    "    ydl.download([url])\n"
   ]
  },
  {
   "cell_type": "code",
   "execution_count": null,
   "metadata": {},
   "outputs": [],
   "source": []
  }
 ],
 "metadata": {
  "kernelspec": {
   "display_name": "base",
   "language": "python",
   "name": "python3"
  },
  "language_info": {
   "codemirror_mode": {
    "name": "ipython",
    "version": 3
   },
   "file_extension": ".py",
   "mimetype": "text/x-python",
   "name": "python",
   "nbconvert_exporter": "python",
   "pygments_lexer": "ipython3",
   "version": "3.12.4"
  }
 },
 "nbformat": 4,
 "nbformat_minor": 2
}
